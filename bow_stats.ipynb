{
 "cells": [
  {
   "cell_type": "code",
   "execution_count": 20,
   "metadata": {},
   "outputs": [],
   "source": [
    "import pandas as pd\n",
    "import tqdm\n",
    "\n",
    "import matplotlib.pyplot as plt\n",
    "from ast import literal_eval"
   ]
  },
  {
   "cell_type": "code",
   "execution_count": 21,
   "metadata": {},
   "outputs": [
    {
     "name": "stdout",
     "output_type": "stream",
     "text": [
      "        is_covid_related  author_id  subreddit_id  comment_id  \\\n",
      "0                  False       8055           291           0   \n",
      "1                  False       8055           191           1   \n",
      "2                  False       8055           284           2   \n",
      "3                  False       8055           266           3   \n",
      "4                  False       8055           266           4   \n",
      "...                  ...        ...           ...         ...   \n",
      "625668              True      22353            43      625668   \n",
      "625669              True      23400            43      625669   \n",
      "625670              True      22353            43      625670   \n",
      "625671              True      14920            43      625671   \n",
      "625672              True      18873            43      625672   \n",
      "\n",
      "                                        preprocessed_body  \n",
      "0       [good, bit, white, testing, gopro, hero, 9, go...  \n",
      "1                                   [text, 's, big, icon]  \n",
      "2       [even, dealing, gop, 're, never, going, vote, ...  \n",
      "3          [wa, game, never, seen, rainfall, like, since]  \n",
      "4       [brady, think, drinking, water, cure, sunburn,...  \n",
      "...                                                   ...  \n",
      "625668  [sometimes, force, throat, 's, biden, administ...  \n",
      "625669  [know, state, ’, also, opened, criterion, anyo...  \n",
      "625670  [sometimes, force, throat, 's, biden, administ...  \n",
      "625671  [’, dealing, absence, evidence, though, dealin...  \n",
      "625672  [drive, community, spread, 's, time, change, b...  \n",
      "\n",
      "[625673 rows x 5 columns]\n"
     ]
    }
   ],
   "source": [
    "df=pd.read_csv('preprocessed_datasets/coronavirus_2021q1_all_preprocessed.csv',encoding='UTF_8',converters={'preprocessed_body': literal_eval})\n",
    "print(df)\n"
   ]
  },
  {
   "cell_type": "code",
   "execution_count": 35,
   "metadata": {},
   "outputs": [
    {
     "name": "stderr",
     "output_type": "stream",
     "text": [
      " 11%|█▏        | 70855/625673 [00:06<00:45, 12087.01it/s]"
     ]
    },
    {
     "ename": "KeyboardInterrupt",
     "evalue": "",
     "output_type": "error",
     "traceback": [
      "\u001b[1;31m---------------------------------------------------------------------------\u001b[0m",
      "\u001b[1;31mKeyboardInterrupt\u001b[0m                         Traceback (most recent call last)",
      "\u001b[1;32m<ipython-input-35-955d76aa0bc9>\u001b[0m in \u001b[0;36m<module>\u001b[1;34m\u001b[0m\n\u001b[0;32m      3\u001b[0m \u001b[0mfilter_words\u001b[0m\u001b[1;33m=\u001b[0m\u001b[1;33m[\u001b[0m\u001b[1;34m\"//\"\u001b[0m\u001b[1;33m,\u001b[0m\u001b[1;34m\"r/\"\u001b[0m\u001b[1;33m,\u001b[0m\u001b[1;34m\".com\"\u001b[0m\u001b[1;33m,\u001b[0m\u001b[1;34m\".org\"\u001b[0m\u001b[1;33m]\u001b[0m\u001b[1;33m\u001b[0m\u001b[1;33m\u001b[0m\u001b[0m\n\u001b[0;32m      4\u001b[0m \u001b[1;33m\u001b[0m\u001b[0m\n\u001b[1;32m----> 5\u001b[1;33m \u001b[1;32mfor\u001b[0m \u001b[0mi\u001b[0m\u001b[1;33m,\u001b[0m\u001b[0mrow\u001b[0m \u001b[1;32min\u001b[0m \u001b[0mtqdm\u001b[0m\u001b[1;33m.\u001b[0m\u001b[0mtqdm\u001b[0m\u001b[1;33m(\u001b[0m\u001b[0mdf\u001b[0m\u001b[1;33m.\u001b[0m\u001b[0miterrows\u001b[0m\u001b[1;33m(\u001b[0m\u001b[1;33m)\u001b[0m\u001b[1;33m,\u001b[0m \u001b[0mtotal\u001b[0m\u001b[1;33m=\u001b[0m\u001b[0mdf\u001b[0m\u001b[1;33m.\u001b[0m\u001b[0mshape\u001b[0m\u001b[1;33m[\u001b[0m\u001b[1;36m0\u001b[0m\u001b[1;33m]\u001b[0m\u001b[1;33m)\u001b[0m\u001b[1;33m:\u001b[0m\u001b[1;33m\u001b[0m\u001b[1;33m\u001b[0m\u001b[0m\n\u001b[0m\u001b[0;32m      6\u001b[0m     \u001b[1;32mfor\u001b[0m \u001b[0mword\u001b[0m \u001b[1;32min\u001b[0m \u001b[0mrow\u001b[0m\u001b[1;33m[\u001b[0m\u001b[1;34m\"preprocessed_body\"\u001b[0m\u001b[1;33m]\u001b[0m\u001b[1;33m:\u001b[0m\u001b[1;33m\u001b[0m\u001b[1;33m\u001b[0m\u001b[0m\n\u001b[0;32m      7\u001b[0m         \u001b[1;32mif\u001b[0m \u001b[1;32mnot\u001b[0m \u001b[0many\u001b[0m\u001b[1;33m(\u001b[0m\u001b[1;33m[\u001b[0m\u001b[0mw\u001b[0m \u001b[1;32min\u001b[0m \u001b[0mword\u001b[0m \u001b[1;32mfor\u001b[0m \u001b[0mw\u001b[0m \u001b[1;32min\u001b[0m \u001b[0mfilter_words\u001b[0m\u001b[1;33m]\u001b[0m\u001b[1;33m)\u001b[0m\u001b[1;33m:\u001b[0m\u001b[1;33m\u001b[0m\u001b[1;33m\u001b[0m\u001b[0m\n",
      "\u001b[1;32mc:\\Users\\Komi\\AppData\\Local\\Programs\\Python\\Python36\\lib\\site-packages\\tqdm\\std.py\u001b[0m in \u001b[0;36m__iter__\u001b[1;34m(self)\u001b[0m\n\u001b[0;32m   1105\u001b[0m                 fp_write=getattr(self.fp, 'write', sys.stderr.write))\n\u001b[0;32m   1106\u001b[0m \u001b[1;33m\u001b[0m\u001b[0m\n\u001b[1;32m-> 1107\u001b[1;33m         \u001b[1;32mfor\u001b[0m \u001b[0mobj\u001b[0m \u001b[1;32min\u001b[0m \u001b[0miterable\u001b[0m\u001b[1;33m:\u001b[0m\u001b[1;33m\u001b[0m\u001b[1;33m\u001b[0m\u001b[0m\n\u001b[0m\u001b[0;32m   1108\u001b[0m             \u001b[1;32myield\u001b[0m \u001b[0mobj\u001b[0m\u001b[1;33m\u001b[0m\u001b[1;33m\u001b[0m\u001b[0m\n\u001b[0;32m   1109\u001b[0m             \u001b[1;31m# Update and possibly print the progressbar.\u001b[0m\u001b[1;33m\u001b[0m\u001b[1;33m\u001b[0m\u001b[1;33m\u001b[0m\u001b[0m\n",
      "\u001b[1;32mc:\\Users\\Komi\\AppData\\Local\\Programs\\Python\\Python36\\lib\\site-packages\\pandas\\core\\frame.py\u001b[0m in \u001b[0;36miterrows\u001b[1;34m(self)\u001b[0m\n\u001b[0;32m   1012\u001b[0m         \u001b[0mklass\u001b[0m \u001b[1;33m=\u001b[0m \u001b[0mself\u001b[0m\u001b[1;33m.\u001b[0m\u001b[0m_constructor_sliced\u001b[0m\u001b[1;33m\u001b[0m\u001b[1;33m\u001b[0m\u001b[0m\n\u001b[0;32m   1013\u001b[0m         \u001b[1;32mfor\u001b[0m \u001b[0mk\u001b[0m\u001b[1;33m,\u001b[0m \u001b[0mv\u001b[0m \u001b[1;32min\u001b[0m \u001b[0mzip\u001b[0m\u001b[1;33m(\u001b[0m\u001b[0mself\u001b[0m\u001b[1;33m.\u001b[0m\u001b[0mindex\u001b[0m\u001b[1;33m,\u001b[0m \u001b[0mself\u001b[0m\u001b[1;33m.\u001b[0m\u001b[0mvalues\u001b[0m\u001b[1;33m)\u001b[0m\u001b[1;33m:\u001b[0m\u001b[1;33m\u001b[0m\u001b[1;33m\u001b[0m\u001b[0m\n\u001b[1;32m-> 1014\u001b[1;33m             \u001b[0ms\u001b[0m \u001b[1;33m=\u001b[0m \u001b[0mklass\u001b[0m\u001b[1;33m(\u001b[0m\u001b[0mv\u001b[0m\u001b[1;33m,\u001b[0m \u001b[0mindex\u001b[0m\u001b[1;33m=\u001b[0m\u001b[0mcolumns\u001b[0m\u001b[1;33m,\u001b[0m \u001b[0mname\u001b[0m\u001b[1;33m=\u001b[0m\u001b[0mk\u001b[0m\u001b[1;33m)\u001b[0m\u001b[1;33m\u001b[0m\u001b[1;33m\u001b[0m\u001b[0m\n\u001b[0m\u001b[0;32m   1015\u001b[0m             \u001b[1;32myield\u001b[0m \u001b[0mk\u001b[0m\u001b[1;33m,\u001b[0m \u001b[0ms\u001b[0m\u001b[1;33m\u001b[0m\u001b[1;33m\u001b[0m\u001b[0m\n\u001b[0;32m   1016\u001b[0m \u001b[1;33m\u001b[0m\u001b[0m\n",
      "\u001b[1;32mc:\\Users\\Komi\\AppData\\Local\\Programs\\Python\\Python36\\lib\\site-packages\\pandas\\core\\series.py\u001b[0m in \u001b[0;36m__init__\u001b[1;34m(self, data, index, dtype, name, copy, fastpath)\u001b[0m\n\u001b[0;32m    330\u001b[0m \u001b[1;33m\u001b[0m\u001b[0m\n\u001b[0;32m    331\u001b[0m         \u001b[0mgeneric\u001b[0m\u001b[1;33m.\u001b[0m\u001b[0mNDFrame\u001b[0m\u001b[1;33m.\u001b[0m\u001b[0m__init__\u001b[0m\u001b[1;33m(\u001b[0m\u001b[0mself\u001b[0m\u001b[1;33m,\u001b[0m \u001b[0mdata\u001b[0m\u001b[1;33m)\u001b[0m\u001b[1;33m\u001b[0m\u001b[1;33m\u001b[0m\u001b[0m\n\u001b[1;32m--> 332\u001b[1;33m         \u001b[0mself\u001b[0m\u001b[1;33m.\u001b[0m\u001b[0mname\u001b[0m \u001b[1;33m=\u001b[0m \u001b[0mname\u001b[0m\u001b[1;33m\u001b[0m\u001b[1;33m\u001b[0m\u001b[0m\n\u001b[0m\u001b[0;32m    333\u001b[0m         \u001b[0mself\u001b[0m\u001b[1;33m.\u001b[0m\u001b[0m_set_axis\u001b[0m\u001b[1;33m(\u001b[0m\u001b[1;36m0\u001b[0m\u001b[1;33m,\u001b[0m \u001b[0mindex\u001b[0m\u001b[1;33m,\u001b[0m \u001b[0mfastpath\u001b[0m\u001b[1;33m=\u001b[0m\u001b[1;32mTrue\u001b[0m\u001b[1;33m)\u001b[0m\u001b[1;33m\u001b[0m\u001b[1;33m\u001b[0m\u001b[0m\n\u001b[0;32m    334\u001b[0m \u001b[1;33m\u001b[0m\u001b[0m\n",
      "\u001b[1;32mc:\\Users\\Komi\\AppData\\Local\\Programs\\Python\\Python36\\lib\\site-packages\\pandas\\core\\generic.py\u001b[0m in \u001b[0;36m__setattr__\u001b[1;34m(self, name, value)\u001b[0m\n\u001b[0;32m   5151\u001b[0m \u001b[1;33m\u001b[0m\u001b[0m\n\u001b[0;32m   5152\u001b[0m         \u001b[1;32mtry\u001b[0m\u001b[1;33m:\u001b[0m\u001b[1;33m\u001b[0m\u001b[1;33m\u001b[0m\u001b[0m\n\u001b[1;32m-> 5153\u001b[1;33m             \u001b[0mobject\u001b[0m\u001b[1;33m.\u001b[0m\u001b[0m__getattribute__\u001b[0m\u001b[1;33m(\u001b[0m\u001b[0mself\u001b[0m\u001b[1;33m,\u001b[0m \u001b[0mname\u001b[0m\u001b[1;33m)\u001b[0m\u001b[1;33m\u001b[0m\u001b[1;33m\u001b[0m\u001b[0m\n\u001b[0m\u001b[0;32m   5154\u001b[0m             \u001b[1;32mreturn\u001b[0m \u001b[0mobject\u001b[0m\u001b[1;33m.\u001b[0m\u001b[0m__setattr__\u001b[0m\u001b[1;33m(\u001b[0m\u001b[0mself\u001b[0m\u001b[1;33m,\u001b[0m \u001b[0mname\u001b[0m\u001b[1;33m,\u001b[0m \u001b[0mvalue\u001b[0m\u001b[1;33m)\u001b[0m\u001b[1;33m\u001b[0m\u001b[1;33m\u001b[0m\u001b[0m\n\u001b[0;32m   5155\u001b[0m         \u001b[1;32mexcept\u001b[0m \u001b[0mAttributeError\u001b[0m\u001b[1;33m:\u001b[0m\u001b[1;33m\u001b[0m\u001b[1;33m\u001b[0m\u001b[0m\n",
      "\u001b[1;32mc:\\Users\\Komi\\AppData\\Local\\Programs\\Python\\Python36\\lib\\site-packages\\pandas\\core\\series.py\u001b[0m in \u001b[0;36mname\u001b[1;34m(self)\u001b[0m\n\u001b[0;32m    488\u001b[0m         \u001b[1;34m'Even Numbers'\u001b[0m\u001b[1;33m\u001b[0m\u001b[1;33m\u001b[0m\u001b[0m\n\u001b[0;32m    489\u001b[0m         \"\"\"\n\u001b[1;32m--> 490\u001b[1;33m         \u001b[1;32mreturn\u001b[0m \u001b[0mself\u001b[0m\u001b[1;33m.\u001b[0m\u001b[0m_name\u001b[0m\u001b[1;33m\u001b[0m\u001b[1;33m\u001b[0m\u001b[0m\n\u001b[0m\u001b[0;32m    491\u001b[0m \u001b[1;33m\u001b[0m\u001b[0m\n\u001b[0;32m    492\u001b[0m     \u001b[1;33m@\u001b[0m\u001b[0mname\u001b[0m\u001b[1;33m.\u001b[0m\u001b[0msetter\u001b[0m\u001b[1;33m\u001b[0m\u001b[1;33m\u001b[0m\u001b[0m\n",
      "\u001b[1;32mc:\\Users\\Komi\\AppData\\Local\\Programs\\Python\\Python36\\lib\\site-packages\\pandas\\core\\generic.py\u001b[0m in \u001b[0;36m__getattr__\u001b[1;34m(self, name)\u001b[0m\n\u001b[0;32m   5131\u001b[0m         \u001b[1;31m# calling obj.__getattr__('x').\u001b[0m\u001b[1;33m\u001b[0m\u001b[1;33m\u001b[0m\u001b[1;33m\u001b[0m\u001b[0m\n\u001b[0;32m   5132\u001b[0m         if (\n\u001b[1;32m-> 5133\u001b[1;33m             \u001b[0mname\u001b[0m \u001b[1;32min\u001b[0m \u001b[0mself\u001b[0m\u001b[1;33m.\u001b[0m\u001b[0m_internal_names_set\u001b[0m\u001b[1;33m\u001b[0m\u001b[1;33m\u001b[0m\u001b[0m\n\u001b[0m\u001b[0;32m   5134\u001b[0m             \u001b[1;32mor\u001b[0m \u001b[0mname\u001b[0m \u001b[1;32min\u001b[0m \u001b[0mself\u001b[0m\u001b[1;33m.\u001b[0m\u001b[0m_metadata\u001b[0m\u001b[1;33m\u001b[0m\u001b[1;33m\u001b[0m\u001b[0m\n\u001b[0;32m   5135\u001b[0m             \u001b[1;32mor\u001b[0m \u001b[0mname\u001b[0m \u001b[1;32min\u001b[0m \u001b[0mself\u001b[0m\u001b[1;33m.\u001b[0m\u001b[0m_accessors\u001b[0m\u001b[1;33m\u001b[0m\u001b[1;33m\u001b[0m\u001b[0m\n",
      "\u001b[1;31mKeyboardInterrupt\u001b[0m: "
     ]
    }
   ],
   "source": [
    "\n",
    "global_dict={}\n",
    "\n",
    "filter_words=[\"//\",\"r/\",\".com\",\".org\"]\n",
    "\n",
    "for i,row in tqdm.tqdm(df.iterrows(), total=df.shape[0]):\n",
    "    for word in row[\"preprocessed_body\"]:\n",
    "        if not any([w in word for w in filter_words]):\n",
    "            if word not in global_dict:\n",
    "                global_dict[word] = 0\n",
    "            else:\n",
    "                global_dict[word]+=1"
   ]
  },
  {
   "cell_type": "code",
   "execution_count": 29,
   "metadata": {},
   "outputs": [
    {
     "name": "stdout",
     "output_type": "stream",
     "text": [
      "{'’': 291810, \"n't\": 191040, \"'s\": 186536, 'wa': 168117, 'people': 152490, 'like': 116249, 'get': 102995, 'would': 100173, 'one': 82944, 'ha': 79514, \"''\": 71950, '``': 71782, 'think': 69958, 'vaccine': 69471, 'time': 65367, 'year': 63725, 'even': 59762, 'know': 54306, 'thing': 52414, 'make': 51996, 'also': 51442, \"'m\": 47977, \"'re\": 47295, 'going': 47219, 'want': 46845, 'go': 46484, 'still': 45886, 'gt': 45841, 'really': 44732, 'day': 44374, 'could': 44141, 'need': 43841, 'right': 43002, 'much': 42956, '...': 42524, 'http': 42140, 'good': 41652, 'way': 41514, 'doe': 40094, 'see': 39993, 'say': 38573, 'covid': 38075, 'work': 36508, 'got': 34922, '“': 34543, '”': 34370, 'take': 33650, 'back': 32844, 'well': 32226, 'many': 31162, 'first': 31117, 'lot': 30899, 'trump': 29360, 'point': 29343, 'country': 29311, 'said': 29056, 'never': 28049, 'mean': 27965, 'every': 27331, 'week': 27106, 'case': 27070, \"'ve\": 26964, 'state': 26782, 'something': 26323, 'life': 26227, 'getting': 26147, 'actual\n",
      "316960\n"
     ]
    },
    {
     "data": {
      "image/png": "[encoded data removed]",
      "text/plain": [
       "<Figure size 432x288 with 1 Axes>"
      ]
     },
     "metadata": {
      "needs_background": "light"
     },
     "output_type": "display_data"
    }
   ],
   "source": [
    "import numpy as np\n",
    "\n",
    "print(str(dict(sorted(global_dict.items(), key=lambda item: item[1],reverse=True)))[:1000])\n",
    "print(len(list(global_dict.values())))\n",
    "values=np.array(list(global_dict.values()))\n",
    "values[values>500]=500\n",
    "plt.hist(values,bins=20)\n",
    "ax = plt.gca()\n",
    "ax.set_ylim([0, 100000])\n",
    "plt.show()"
   ]
  },
  {
   "cell_type": "code",
   "execution_count": 36,
   "metadata": {},
   "outputs": [
    {
     "name": "stderr",
     "output_type": "stream",
     "text": [
      "100%|██████████| 625673/625673 [02:34<00:00, 4049.10it/s]\n"
     ]
    }
   ],
   "source": [
    "global_dict={}\n",
    "\n",
    "for i,row in tqdm.tqdm(df.iterrows(), total=df.shape[0]):\n",
    "    for word in row[\"preprocessed_body\"]:\n",
    "        if not any([w in word for w in filter_words]):\n",
    "            if word not in global_dict:\n",
    "                global_dict[word] = {(row['author_id'],row['subreddit_id'])}\n",
    "            else:\n",
    "                global_dict[word].add((row['author_id'],row['subreddit_id']))\n",
    "global_dict = dict(sorted(global_dict.items(), key=lambda item: len(item[1]),reverse=True))\n",
    "\n"
   ]
  },
  {
   "cell_type": "code",
   "execution_count": 37,
   "metadata": {},
   "outputs": [
    {
     "name": "stderr",
     "output_type": "stream",
     "text": [
      "100%|██████████| 316960/316960 [00:05<00:00, 58087.66it/s]\n"
     ]
    },
    {
     "name": "stdout",
     "output_type": "stream",
     "text": [
      "{'wa': {(3684, 221), (16114, 12), (23772, 299), (9180, 43), (25510, 43), (8449, 77), (22836, 127), (24293, 327), (25865, 8), (16771, 267), (450, 3), (19096, 108), (23737, 181), (10942, 57), (21815, 274), (24350, 33), (11244, 321), (4551, 0), (17183, 327), (16505, 190), (4661, 265), (1883, 43), (10584, 12), (15573, 43), (8904, 155), (6576, 7), (25476, 284), (10950, 262), (12839, 172), (24079, 259), (17680, 30), (21749, 316), (13413, 7), (1209, 121), (1721, 165), (20813, 112), (16179, 135), (12364, 12), (4416, 43), (19371, 257), (21548, 284), (563, 308), (11685, 66), (10352, 262), (14917, 233), (971, 43), (22928, 169), (15055, 127), (25521, 159), (9615, 284), (175, 43), (5531, 74), (22412, 260), (2837, 10), (17448, 296), (13949, 151), (17946, 43), (11419, 43), (10393, 245), (2823, 43), (19508, 100), (424, 69), (20315, 284), (15864, 137), (2334, 12), (7805, 326), (7971, 12), (22904, 327), (12865, 172), (21888, 7), (22132, 128), (20495, 43), (21233, 280), (9856, 43), (18539, 212), (17590, \n",
      "21903\n"
     ]
    },
    {
     "data": {
      "image/png": "[encoded data removed]",
      "text/plain": [
       "<Figure size 432x288 with 1 Axes>"
      ]
     },
     "metadata": {
      "needs_background": "light"
     },
     "output_type": "display_data"
    }
   ],
   "source": [
    "keys=list(global_dict)\n",
    "for word in tqdm.tqdm(keys):\n",
    "    if len(set([author_id for (author_id,_) in global_dict[word]]))<20 or len(set([subreddit_id for (_,subreddit_id) in global_dict[word]]))<5:\n",
    "        global_dict.pop(word)\n",
    "    \n",
    "print(str(dict(sorted(global_dict.items(), key=lambda item: len(item[1]),reverse=True)))[:1000])\n",
    "print(len(list(global_dict.values())))\n",
    "dict_counts={}\n",
    "for word in global_dict:\n",
    "    dict_counts[word]=len(global_dict[word])\n",
    "values=np.array(list(dict_counts.values()))\n",
    "values[values>500]=500\n",
    "plt.hist(values,bins=20)\n",
    "ax = plt.gca()\n",
    "ax.set_ylim([0, 100000])\n",
    "plt.show()"
   ]
  }
 ],
 "metadata": {
  "kernelspec": {
   "display_name": "Python 3.9.13 ('venv39': venv)",
   "language": "python",
   "name": "python3"
  },
  "language_info": {
   "codemirror_mode": {
    "name": "ipython",
    "version": 3
   },
   "file_extension": ".py",
   "mimetype": "text/x-python",
   "name": "python",
   "nbconvert_exporter": "python",
   "pygments_lexer": "ipython3",
   "version": "3.9.13"
  },
  "orig_nbformat": 4,
  "vscode": {
   "interpreter": {
    "hash": "74f696c15222280786284ce7e7866cfb85e8efe029d78b7ee203451221269bd4"
   }
  }
 },
 "nbformat": 4,
 "nbformat_minor": 2
}
