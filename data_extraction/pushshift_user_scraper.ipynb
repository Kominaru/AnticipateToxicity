{
 "cells": [
  {
   "cell_type": "code",
   "execution_count": 1,
   "metadata": {},
   "outputs": [],
   "source": [
    "import datetime\n",
    "import pandas as pd\n",
    "import requests\n",
    "import json\n",
    "\n",
    "df=pd.read_csv(\"../coronavirus_2021q1_all.csv\")\n",
    "df[\"Publish Date\"]=df[\"Publish Date\"].apply(lambda x: datetime.datetime.timestamp(datetime.datetime.strptime(x, \"%Y-%m-%d %H:%M:%S\")))\n",
    "df=df[df[\"Publish Date\"]>datetime.datetime.timestamp(datetime.datetime(2021, 3, 15, 0))]\n",
    "# print(f\"{len(pd.unique(df['Author']))} Unique users\")"
   ]
  },
  {
   "cell_type": "code",
   "execution_count": 2,
   "metadata": {},
   "outputs": [
    {
     "name": "stdout",
     "output_type": "stream",
     "text": [
      "[deleted]               1999\n",
      "AutoModerator           1010\n",
      "lordhamster1977          286\n",
      "JenniferColeRhuk         194\n",
      "ThatsJustUn-American     149\n",
      "                        ... \n",
      "amr500gvrd                 1\n",
      "ox_raider                  1\n",
      "cheffromspace              1\n",
      "sum8fever                  1\n",
      "BaltSuz                    1\n",
      "Name: Author, Length: 10518, dtype: int64\n"
     ]
    }
   ],
   "source": [
    "value_counts=df[\"Author\"].value_counts()\n",
    "print(value_counts)\n",
    "df=df[~df[\"Author\"].isin(value_counts[value_counts>=2000].index)]"
   ]
  },
  {
   "cell_type": "code",
   "execution_count": 3,
   "metadata": {},
   "outputs": [],
   "source": [
    "from time import sleep, time\n",
    "\n",
    "from requests import Timeout\n",
    "\n",
    "next = time()+2\n",
    "def parse_comment(comment):\n",
    "    body = comment['body'].replace('\\n',' ').replace('\\t',' ').replace('\\r',' ').replace('\\r\\n',' ')\n",
    "    author = comment['author']\n",
    "    com_id = comment['id']\n",
    "    score = comment['score']\n",
    "    created = datetime.datetime.fromtimestamp(comment['created_utc']) \n",
    "    permalink = comment['permalink']\n",
    "    subreddit = comment['subreddit']\n",
    "    parent_id = comment['parent_id']\n",
    "    post_id=comment['link_id']\n",
    "    return (com_id,subreddit,body,author,score,created,permalink,parent_id,post_id)\n",
    "\n",
    "def search_user_comments(user, i, limit:int, before:int, after:int):\n",
    "    global next\n",
    "    user_comments=[]\n",
    "    sleep(max(0,next-time()))\n",
    "    next = time()+2\n",
    "    while True:\n",
    "        sleep(max(0,next-time()))\n",
    "        next = time()+2\n",
    "        url= f\"https://api.pushshift.io/reddit/search/comment?limit=1000&before={before}&after={after}{' ' if user is None else '&author='+user}\"\n",
    "\n",
    "        while True:\n",
    "            try:\n",
    "                r = requests.get(url, timeout=5)\n",
    "                data = json.loads(r.text)['data']\n",
    "                break\n",
    "            except Timeout as t:\n",
    "                print(f\"Timed Out on user {user} ({i}): {t}\", end='\\r')\n",
    "                sleep(5)\n",
    "            except Exception as e:\n",
    "                print(f\"Errored on user {user} ({i}): {e}\", end='\\r')\n",
    "                sleep(5)\n",
    "        \n",
    "        if len(data)==0:\n",
    "            break\n",
    "        \n",
    "        user_comments+=data\n",
    "        if len(user_comments)>=limit:\n",
    "            user_comments=user_comments[:limit]\n",
    "            break\n",
    "\n",
    "        before=user_comments[-1][\"created_utc\"]-1\n",
    "\n",
    "    parsed_comments=[]\n",
    "    for comment in user_comments:\n",
    "        if comment['subreddit']!=\"Coronavirus\":\n",
    "            parsed_comments.append(parse_comment(comment))\n",
    "    \n",
    "    return parsed_comments\n"
   ]
  },
  {
   "cell_type": "code",
   "execution_count": 4,
   "metadata": {},
   "outputs": [
    {
     "name": "stdout",
     "output_type": "stream",
     "text": [
      "Gathered 996 comments for user redmustang04 (10517/10518) \t\t 518) \t\t ost='api.pushshift.io', port=443): Read timed out. (read timeout=5)h/comment?limit=1000&before=1602741656&after=1601503200&author=DaeDreamin (Caused by NewConnectionError('<urllib3.connection.HTTPSConnection object at 0x0000027D060F5580>: Failed to establish a new connection: [Errno 11001] getaddrinfo failed'))iled'))operación de socket en un host no accesible'))\r"
     ]
    }
   ],
   "source": [
    "before = int(datetime.datetime(2021, 3, 30, 0).timestamp())\n",
    "after = int(datetime.datetime(2020, 10, 1, 0).timestamp())\n",
    "\n",
    "comms = {}\n",
    "\n",
    "for i,user in enumerate(pd.unique(df[\"Author\"])):\n",
    "     usercomms=search_user_comments(user,i,1000,before,after)\n",
    "     print(f\"Gathered {len(usercomms)} comments for user {user} ({i}/{len(pd.unique(df['Author']))}) \\t\\t \",end='\\r')\n",
    "     comms[user]=usercomms"
   ]
  },
  {
   "cell_type": "code",
   "execution_count": 6,
   "metadata": {},
   "outputs": [
    {
     "name": "stdout",
     "output_type": "stream",
     "text": [
      "input filename of submission file, please add .csv\n",
      "8667514 submissions have been uploaded\n"
     ]
    }
   ],
   "source": [
    "import time\n",
    "import csv\n",
    "def updateSubs_file():\n",
    "    upload_count = 0\n",
    "    print(\"input filename of submission file, please add .csv\")\n",
    "    filename = input()\n",
    "    file = filename\n",
    "    with open(file, 'w', newline='', encoding='utf-8') as file: \n",
    "        a = csv.writer(file, delimiter=',')\n",
    "        headers = [\"Post ID\",\"Subreddit\",\"Body\",\"Author\",\"Score\",\"Publish Date\",\"Permalink\",\"Parent_id\",\"Post_id\"]\n",
    "        a.writerow(headers)\n",
    "        for user in comms:\n",
    "            a.writerows(comms[user])\n",
    "            upload_count+=len(comms[user])\n",
    "            \n",
    "        print(str(upload_count) + \" submissions have been uploaded\")\n",
    "\n",
    "updateSubs_file()"
   ]
  }
 ],
 "metadata": {
  "kernelspec": {
   "display_name": "Python 3.9.13 ('venc39': venv)",
   "language": "python",
   "name": "python3"
  },
  "language_info": {
   "codemirror_mode": {
    "name": "ipython",
    "version": 3
   },
   "file_extension": ".py",
   "mimetype": "text/x-python",
   "name": "python",
   "nbconvert_exporter": "python",
   "pygments_lexer": "ipython3",
   "version": "3.9.13"
  },
  "orig_nbformat": 4,
  "vscode": {
   "interpreter": {
    "hash": "fdb98cf9e3584833e400ba33bc95736862074b46e6e1613b4d6fec3467f0e405"
   }
  }
 },
 "nbformat": 4,
 "nbformat_minor": 2
}
